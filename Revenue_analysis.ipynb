{
  "nbformat": 4,
  "nbformat_minor": 0,
  "metadata": {
    "colab": {
      "provenance": []
    },
    "kernelspec": {
      "name": "python3",
      "display_name": "Python 3"
    },
    "language_info": {
      "name": "python"
    }
  },
  "cells": [
    {
      "cell_type": "code",
      "execution_count": null,
      "metadata": {
        "id": "kNhSOwjAUeGD"
      },
      "outputs": [],
      "source": [
        "# Necessary liabrary\n",
        "import numpy as np\n",
        "import pandas as pd"
      ]
    },
    {
      "cell_type": "code",
      "source": [
        "#Read the csv file\n",
        "df = pd.read_csv('/content/Orders_Items_Data.csv')"
      ],
      "metadata": {
        "id": "C9IgRHrgVO9V"
      },
      "execution_count": null,
      "outputs": []
    },
    {
      "cell_type": "code",
      "source": [
        "#Sample dataset\n",
        "df.head()"
      ],
      "metadata": {
        "colab": {
          "base_uri": "https://localhost:8080/",
          "height": 342
        },
        "id": "HWMSgfm7VVN2",
        "outputId": "c417fa58-3aae-4eaf-cbc3-102bf73abfca"
      },
      "execution_count": null,
      "outputs": [
        {
          "output_type": "execute_result",
          "data": {
            "text/plain": [
              "  order_id customer  city_id           created_at delivery_time  \\\n",
              "0   52,739   33,621        1  2020-10-23 00:00:00           NaN   \n",
              "1   52,739   33,621        1  2020-10-23 00:00:00           NaN   \n",
              "2   52,739   33,621        1  2020-10-23 00:00:00           NaN   \n",
              "3   52,739   33,621        1  2020-10-23 00:00:00           NaN   \n",
              "4   52,776   33,621        1  2020-10-09 00:00:00           NaN   \n",
              "\n",
              "  undelivered_time    order_type order_source order_status payment_method  \\\n",
              "0              NaN  Subscription    Dashboard    Cancelled            COD   \n",
              "1              NaN  Subscription    Dashboard    Cancelled            COD   \n",
              "2              NaN  Subscription    Dashboard    Cancelled            COD   \n",
              "3              NaN  Subscription    Dashboard    Cancelled            COD   \n",
              "4              NaN  Subscription    Dashboard    Cancelled            COD   \n",
              "\n",
              "   ...     product_id      variant_id ordered_qty  per_unit_price   city  \\\n",
              "0  ...  2029138444376  20133185781848           1              28  Delhi   \n",
              "1  ...  2050577596504  20265170468952           1              31  Delhi   \n",
              "2  ...  2029131169880  20132946378840           1              28  Delhi   \n",
              "3  ...  2029139492952  20133222973528           1              31  Delhi   \n",
              "4  ...  2029131169880  20132946378840           1              28  Delhi   \n",
              "\n",
              "   pincode  state  first_utm_source  first_referrer first_utm_campaign  \n",
              "0      NaN  Delhi               NaN             NaN                NaN  \n",
              "1      NaN  Delhi               NaN             NaN                NaN  \n",
              "2      NaN  Delhi               NaN             NaN                NaN  \n",
              "3      NaN  Delhi               NaN             NaN                NaN  \n",
              "4      NaN  Delhi               NaN             NaN                NaN  \n",
              "\n",
              "[5 rows x 25 columns]"
            ],
            "text/html": [
              "\n",
              "  <div id=\"df-3dd3c1c2-fcf5-4017-8669-a498ca3ae715\" class=\"colab-df-container\">\n",
              "    <div>\n",
              "<style scoped>\n",
              "    .dataframe tbody tr th:only-of-type {\n",
              "        vertical-align: middle;\n",
              "    }\n",
              "\n",
              "    .dataframe tbody tr th {\n",
              "        vertical-align: top;\n",
              "    }\n",
              "\n",
              "    .dataframe thead th {\n",
              "        text-align: right;\n",
              "    }\n",
              "</style>\n",
              "<table border=\"1\" class=\"dataframe\">\n",
              "  <thead>\n",
              "    <tr style=\"text-align: right;\">\n",
              "      <th></th>\n",
              "      <th>order_id</th>\n",
              "      <th>customer</th>\n",
              "      <th>city_id</th>\n",
              "      <th>created_at</th>\n",
              "      <th>delivery_time</th>\n",
              "      <th>undelivered_time</th>\n",
              "      <th>order_type</th>\n",
              "      <th>order_source</th>\n",
              "      <th>order_status</th>\n",
              "      <th>payment_method</th>\n",
              "      <th>...</th>\n",
              "      <th>product_id</th>\n",
              "      <th>variant_id</th>\n",
              "      <th>ordered_qty</th>\n",
              "      <th>per_unit_price</th>\n",
              "      <th>city</th>\n",
              "      <th>pincode</th>\n",
              "      <th>state</th>\n",
              "      <th>first_utm_source</th>\n",
              "      <th>first_referrer</th>\n",
              "      <th>first_utm_campaign</th>\n",
              "    </tr>\n",
              "  </thead>\n",
              "  <tbody>\n",
              "    <tr>\n",
              "      <th>0</th>\n",
              "      <td>52,739</td>\n",
              "      <td>33,621</td>\n",
              "      <td>1</td>\n",
              "      <td>2020-10-23 00:00:00</td>\n",
              "      <td>NaN</td>\n",
              "      <td>NaN</td>\n",
              "      <td>Subscription</td>\n",
              "      <td>Dashboard</td>\n",
              "      <td>Cancelled</td>\n",
              "      <td>COD</td>\n",
              "      <td>...</td>\n",
              "      <td>2029138444376</td>\n",
              "      <td>20133185781848</td>\n",
              "      <td>1</td>\n",
              "      <td>28</td>\n",
              "      <td>Delhi</td>\n",
              "      <td>NaN</td>\n",
              "      <td>Delhi</td>\n",
              "      <td>NaN</td>\n",
              "      <td>NaN</td>\n",
              "      <td>NaN</td>\n",
              "    </tr>\n",
              "    <tr>\n",
              "      <th>1</th>\n",
              "      <td>52,739</td>\n",
              "      <td>33,621</td>\n",
              "      <td>1</td>\n",
              "      <td>2020-10-23 00:00:00</td>\n",
              "      <td>NaN</td>\n",
              "      <td>NaN</td>\n",
              "      <td>Subscription</td>\n",
              "      <td>Dashboard</td>\n",
              "      <td>Cancelled</td>\n",
              "      <td>COD</td>\n",
              "      <td>...</td>\n",
              "      <td>2050577596504</td>\n",
              "      <td>20265170468952</td>\n",
              "      <td>1</td>\n",
              "      <td>31</td>\n",
              "      <td>Delhi</td>\n",
              "      <td>NaN</td>\n",
              "      <td>Delhi</td>\n",
              "      <td>NaN</td>\n",
              "      <td>NaN</td>\n",
              "      <td>NaN</td>\n",
              "    </tr>\n",
              "    <tr>\n",
              "      <th>2</th>\n",
              "      <td>52,739</td>\n",
              "      <td>33,621</td>\n",
              "      <td>1</td>\n",
              "      <td>2020-10-23 00:00:00</td>\n",
              "      <td>NaN</td>\n",
              "      <td>NaN</td>\n",
              "      <td>Subscription</td>\n",
              "      <td>Dashboard</td>\n",
              "      <td>Cancelled</td>\n",
              "      <td>COD</td>\n",
              "      <td>...</td>\n",
              "      <td>2029131169880</td>\n",
              "      <td>20132946378840</td>\n",
              "      <td>1</td>\n",
              "      <td>28</td>\n",
              "      <td>Delhi</td>\n",
              "      <td>NaN</td>\n",
              "      <td>Delhi</td>\n",
              "      <td>NaN</td>\n",
              "      <td>NaN</td>\n",
              "      <td>NaN</td>\n",
              "    </tr>\n",
              "    <tr>\n",
              "      <th>3</th>\n",
              "      <td>52,739</td>\n",
              "      <td>33,621</td>\n",
              "      <td>1</td>\n",
              "      <td>2020-10-23 00:00:00</td>\n",
              "      <td>NaN</td>\n",
              "      <td>NaN</td>\n",
              "      <td>Subscription</td>\n",
              "      <td>Dashboard</td>\n",
              "      <td>Cancelled</td>\n",
              "      <td>COD</td>\n",
              "      <td>...</td>\n",
              "      <td>2029139492952</td>\n",
              "      <td>20133222973528</td>\n",
              "      <td>1</td>\n",
              "      <td>31</td>\n",
              "      <td>Delhi</td>\n",
              "      <td>NaN</td>\n",
              "      <td>Delhi</td>\n",
              "      <td>NaN</td>\n",
              "      <td>NaN</td>\n",
              "      <td>NaN</td>\n",
              "    </tr>\n",
              "    <tr>\n",
              "      <th>4</th>\n",
              "      <td>52,776</td>\n",
              "      <td>33,621</td>\n",
              "      <td>1</td>\n",
              "      <td>2020-10-09 00:00:00</td>\n",
              "      <td>NaN</td>\n",
              "      <td>NaN</td>\n",
              "      <td>Subscription</td>\n",
              "      <td>Dashboard</td>\n",
              "      <td>Cancelled</td>\n",
              "      <td>COD</td>\n",
              "      <td>...</td>\n",
              "      <td>2029131169880</td>\n",
              "      <td>20132946378840</td>\n",
              "      <td>1</td>\n",
              "      <td>28</td>\n",
              "      <td>Delhi</td>\n",
              "      <td>NaN</td>\n",
              "      <td>Delhi</td>\n",
              "      <td>NaN</td>\n",
              "      <td>NaN</td>\n",
              "      <td>NaN</td>\n",
              "    </tr>\n",
              "  </tbody>\n",
              "</table>\n",
              "<p>5 rows × 25 columns</p>\n",
              "</div>\n",
              "    <div class=\"colab-df-buttons\">\n",
              "\n",
              "  <div class=\"colab-df-container\">\n",
              "    <button class=\"colab-df-convert\" onclick=\"convertToInteractive('df-3dd3c1c2-fcf5-4017-8669-a498ca3ae715')\"\n",
              "            title=\"Convert this dataframe to an interactive table.\"\n",
              "            style=\"display:none;\">\n",
              "\n",
              "  <svg xmlns=\"http://www.w3.org/2000/svg\" height=\"24px\" viewBox=\"0 -960 960 960\">\n",
              "    <path d=\"M120-120v-720h720v720H120Zm60-500h600v-160H180v160Zm220 220h160v-160H400v160Zm0 220h160v-160H400v160ZM180-400h160v-160H180v160Zm440 0h160v-160H620v160ZM180-180h160v-160H180v160Zm440 0h160v-160H620v160Z\"/>\n",
              "  </svg>\n",
              "    </button>\n",
              "\n",
              "  <style>\n",
              "    .colab-df-container {\n",
              "      display:flex;\n",
              "      gap: 12px;\n",
              "    }\n",
              "\n",
              "    .colab-df-convert {\n",
              "      background-color: #E8F0FE;\n",
              "      border: none;\n",
              "      border-radius: 50%;\n",
              "      cursor: pointer;\n",
              "      display: none;\n",
              "      fill: #1967D2;\n",
              "      height: 32px;\n",
              "      padding: 0 0 0 0;\n",
              "      width: 32px;\n",
              "    }\n",
              "\n",
              "    .colab-df-convert:hover {\n",
              "      background-color: #E2EBFA;\n",
              "      box-shadow: 0px 1px 2px rgba(60, 64, 67, 0.3), 0px 1px 3px 1px rgba(60, 64, 67, 0.15);\n",
              "      fill: #174EA6;\n",
              "    }\n",
              "\n",
              "    .colab-df-buttons div {\n",
              "      margin-bottom: 4px;\n",
              "    }\n",
              "\n",
              "    [theme=dark] .colab-df-convert {\n",
              "      background-color: #3B4455;\n",
              "      fill: #D2E3FC;\n",
              "    }\n",
              "\n",
              "    [theme=dark] .colab-df-convert:hover {\n",
              "      background-color: #434B5C;\n",
              "      box-shadow: 0px 1px 3px 1px rgba(0, 0, 0, 0.15);\n",
              "      filter: drop-shadow(0px 1px 2px rgba(0, 0, 0, 0.3));\n",
              "      fill: #FFFFFF;\n",
              "    }\n",
              "  </style>\n",
              "\n",
              "    <script>\n",
              "      const buttonEl =\n",
              "        document.querySelector('#df-3dd3c1c2-fcf5-4017-8669-a498ca3ae715 button.colab-df-convert');\n",
              "      buttonEl.style.display =\n",
              "        google.colab.kernel.accessAllowed ? 'block' : 'none';\n",
              "\n",
              "      async function convertToInteractive(key) {\n",
              "        const element = document.querySelector('#df-3dd3c1c2-fcf5-4017-8669-a498ca3ae715');\n",
              "        const dataTable =\n",
              "          await google.colab.kernel.invokeFunction('convertToInteractive',\n",
              "                                                    [key], {});\n",
              "        if (!dataTable) return;\n",
              "\n",
              "        const docLinkHtml = 'Like what you see? Visit the ' +\n",
              "          '<a target=\"_blank\" href=https://colab.research.google.com/notebooks/data_table.ipynb>data table notebook</a>'\n",
              "          + ' to learn more about interactive tables.';\n",
              "        element.innerHTML = '';\n",
              "        dataTable['output_type'] = 'display_data';\n",
              "        await google.colab.output.renderOutput(dataTable, element);\n",
              "        const docLink = document.createElement('div');\n",
              "        docLink.innerHTML = docLinkHtml;\n",
              "        element.appendChild(docLink);\n",
              "      }\n",
              "    </script>\n",
              "  </div>\n",
              "\n",
              "\n",
              "<div id=\"df-1afa5679-4e7c-41d0-801d-fed52361e417\">\n",
              "  <button class=\"colab-df-quickchart\" onclick=\"quickchart('df-1afa5679-4e7c-41d0-801d-fed52361e417')\"\n",
              "            title=\"Suggest charts\"\n",
              "            style=\"display:none;\">\n",
              "\n",
              "<svg xmlns=\"http://www.w3.org/2000/svg\" height=\"24px\"viewBox=\"0 0 24 24\"\n",
              "     width=\"24px\">\n",
              "    <g>\n",
              "        <path d=\"M19 3H5c-1.1 0-2 .9-2 2v14c0 1.1.9 2 2 2h14c1.1 0 2-.9 2-2V5c0-1.1-.9-2-2-2zM9 17H7v-7h2v7zm4 0h-2V7h2v10zm4 0h-2v-4h2v4z\"/>\n",
              "    </g>\n",
              "</svg>\n",
              "  </button>\n",
              "\n",
              "<style>\n",
              "  .colab-df-quickchart {\n",
              "      --bg-color: #E8F0FE;\n",
              "      --fill-color: #1967D2;\n",
              "      --hover-bg-color: #E2EBFA;\n",
              "      --hover-fill-color: #174EA6;\n",
              "      --disabled-fill-color: #AAA;\n",
              "      --disabled-bg-color: #DDD;\n",
              "  }\n",
              "\n",
              "  [theme=dark] .colab-df-quickchart {\n",
              "      --bg-color: #3B4455;\n",
              "      --fill-color: #D2E3FC;\n",
              "      --hover-bg-color: #434B5C;\n",
              "      --hover-fill-color: #FFFFFF;\n",
              "      --disabled-bg-color: #3B4455;\n",
              "      --disabled-fill-color: #666;\n",
              "  }\n",
              "\n",
              "  .colab-df-quickchart {\n",
              "    background-color: var(--bg-color);\n",
              "    border: none;\n",
              "    border-radius: 50%;\n",
              "    cursor: pointer;\n",
              "    display: none;\n",
              "    fill: var(--fill-color);\n",
              "    height: 32px;\n",
              "    padding: 0;\n",
              "    width: 32px;\n",
              "  }\n",
              "\n",
              "  .colab-df-quickchart:hover {\n",
              "    background-color: var(--hover-bg-color);\n",
              "    box-shadow: 0 1px 2px rgba(60, 64, 67, 0.3), 0 1px 3px 1px rgba(60, 64, 67, 0.15);\n",
              "    fill: var(--button-hover-fill-color);\n",
              "  }\n",
              "\n",
              "  .colab-df-quickchart-complete:disabled,\n",
              "  .colab-df-quickchart-complete:disabled:hover {\n",
              "    background-color: var(--disabled-bg-color);\n",
              "    fill: var(--disabled-fill-color);\n",
              "    box-shadow: none;\n",
              "  }\n",
              "\n",
              "  .colab-df-spinner {\n",
              "    border: 2px solid var(--fill-color);\n",
              "    border-color: transparent;\n",
              "    border-bottom-color: var(--fill-color);\n",
              "    animation:\n",
              "      spin 1s steps(1) infinite;\n",
              "  }\n",
              "\n",
              "  @keyframes spin {\n",
              "    0% {\n",
              "      border-color: transparent;\n",
              "      border-bottom-color: var(--fill-color);\n",
              "      border-left-color: var(--fill-color);\n",
              "    }\n",
              "    20% {\n",
              "      border-color: transparent;\n",
              "      border-left-color: var(--fill-color);\n",
              "      border-top-color: var(--fill-color);\n",
              "    }\n",
              "    30% {\n",
              "      border-color: transparent;\n",
              "      border-left-color: var(--fill-color);\n",
              "      border-top-color: var(--fill-color);\n",
              "      border-right-color: var(--fill-color);\n",
              "    }\n",
              "    40% {\n",
              "      border-color: transparent;\n",
              "      border-right-color: var(--fill-color);\n",
              "      border-top-color: var(--fill-color);\n",
              "    }\n",
              "    60% {\n",
              "      border-color: transparent;\n",
              "      border-right-color: var(--fill-color);\n",
              "    }\n",
              "    80% {\n",
              "      border-color: transparent;\n",
              "      border-right-color: var(--fill-color);\n",
              "      border-bottom-color: var(--fill-color);\n",
              "    }\n",
              "    90% {\n",
              "      border-color: transparent;\n",
              "      border-bottom-color: var(--fill-color);\n",
              "    }\n",
              "  }\n",
              "</style>\n",
              "\n",
              "  <script>\n",
              "    async function quickchart(key) {\n",
              "      const quickchartButtonEl =\n",
              "        document.querySelector('#' + key + ' button');\n",
              "      quickchartButtonEl.disabled = true;  // To prevent multiple clicks.\n",
              "      quickchartButtonEl.classList.add('colab-df-spinner');\n",
              "      try {\n",
              "        const charts = await google.colab.kernel.invokeFunction(\n",
              "            'suggestCharts', [key], {});\n",
              "      } catch (error) {\n",
              "        console.error('Error during call to suggestCharts:', error);\n",
              "      }\n",
              "      quickchartButtonEl.classList.remove('colab-df-spinner');\n",
              "      quickchartButtonEl.classList.add('colab-df-quickchart-complete');\n",
              "    }\n",
              "    (() => {\n",
              "      let quickchartButtonEl =\n",
              "        document.querySelector('#df-1afa5679-4e7c-41d0-801d-fed52361e417 button');\n",
              "      quickchartButtonEl.style.display =\n",
              "        google.colab.kernel.accessAllowed ? 'block' : 'none';\n",
              "    })();\n",
              "  </script>\n",
              "</div>\n",
              "\n",
              "    </div>\n",
              "  </div>\n"
            ],
            "application/vnd.google.colaboratory.intrinsic+json": {
              "type": "dataframe",
              "variable_name": "df"
            }
          },
          "metadata": {},
          "execution_count": 256
        }
      ]
    },
    {
      "cell_type": "code",
      "source": [
        "#Examining duplicated Values\n",
        "df.duplicated().sum()"
      ],
      "metadata": {
        "colab": {
          "base_uri": "https://localhost:8080/"
        },
        "id": "YCepL5_f-mxm",
        "outputId": "d7223646-5d8d-4f32-8a0f-6953e2abac72"
      },
      "execution_count": null,
      "outputs": [
        {
          "output_type": "execute_result",
          "data": {
            "text/plain": [
              "0"
            ]
          },
          "metadata": {},
          "execution_count": 257
        }
      ]
    },
    {
      "cell_type": "code",
      "source": [
        "# Summary of DataFrames\n",
        "df.info()"
      ],
      "metadata": {
        "colab": {
          "base_uri": "https://localhost:8080/"
        },
        "id": "ORtidMJ6VWx-",
        "outputId": "97fce179-52ed-481c-cb0c-dfb228e39a0b"
      },
      "execution_count": null,
      "outputs": [
        {
          "output_type": "stream",
          "name": "stdout",
          "text": [
            "<class 'pandas.core.frame.DataFrame'>\n",
            "RangeIndex: 7883 entries, 0 to 7882\n",
            "Data columns (total 25 columns):\n",
            " #   Column              Non-Null Count  Dtype  \n",
            "---  ------              --------------  -----  \n",
            " 0   order_id            7883 non-null   object \n",
            " 1   customer            7883 non-null   object \n",
            " 2   city_id             7883 non-null   int64  \n",
            " 3   created_at          7883 non-null   object \n",
            " 4   delivery_time       7208 non-null   object \n",
            " 5   undelivered_time    249 non-null    object \n",
            " 6   order_type          7883 non-null   object \n",
            " 7   order_source        7883 non-null   object \n",
            " 8   order_status        7883 non-null   object \n",
            " 9   payment_method      7883 non-null   object \n",
            " 10  discount            7883 non-null   float64\n",
            " 11  shipping_amt        7883 non-null   int64  \n",
            " 12  order_amt           7883 non-null   object \n",
            " 13  payment_charges     7883 non-null   int64  \n",
            " 14  total_amt           7883 non-null   object \n",
            " 15  product_id          7883 non-null   int64  \n",
            " 16  variant_id          7883 non-null   int64  \n",
            " 17  ordered_qty         7883 non-null   int64  \n",
            " 18  per_unit_price      7883 non-null   int64  \n",
            " 19  city                7883 non-null   object \n",
            " 20  pincode             7828 non-null   float64\n",
            " 21  state               7883 non-null   object \n",
            " 22  first_utm_source    0 non-null      float64\n",
            " 23  first_referrer      0 non-null      float64\n",
            " 24  first_utm_campaign  0 non-null      float64\n",
            "dtypes: float64(5), int64(7), object(13)\n",
            "memory usage: 1.5+ MB\n"
          ]
        }
      ]
    },
    {
      "cell_type": "code",
      "source": [
        "# Count of null values\n",
        "df.isna().sum()"
      ],
      "metadata": {
        "colab": {
          "base_uri": "https://localhost:8080/"
        },
        "id": "4BNoDAh9b7RE",
        "outputId": "e16572a1-b68d-48d3-f5e1-634c617bcd02"
      },
      "execution_count": null,
      "outputs": [
        {
          "output_type": "execute_result",
          "data": {
            "text/plain": [
              "order_id                 0\n",
              "customer                 0\n",
              "city_id                  0\n",
              "created_at               0\n",
              "delivery_time          675\n",
              "undelivered_time      7634\n",
              "order_type               0\n",
              "order_source             0\n",
              "order_status             0\n",
              "payment_method           0\n",
              "discount                 0\n",
              "shipping_amt             0\n",
              "order_amt                0\n",
              "payment_charges          0\n",
              "total_amt                0\n",
              "product_id               0\n",
              "variant_id               0\n",
              "ordered_qty              0\n",
              "per_unit_price           0\n",
              "city                     0\n",
              "pincode                 55\n",
              "state                    0\n",
              "first_utm_source      7883\n",
              "first_referrer        7883\n",
              "first_utm_campaign    7883\n",
              "dtype: int64"
            ]
          },
          "metadata": {},
          "execution_count": 259
        }
      ]
    },
    {
      "cell_type": "markdown",
      "source": [
        "# We need to handle the missing values in the dataset but for the relevant questions we don't need to closely look into this matter."
      ],
      "metadata": {
        "id": "IVMNDisM_M3o"
      }
    },
    {
      "cell_type": "code",
      "source": [
        "# Analysing the NAN values in delivery time those are cancelled orders\n",
        "df[df['delivery_time'].isna()]['order_status'].value_counts()"
      ],
      "metadata": {
        "colab": {
          "base_uri": "https://localhost:8080/"
        },
        "id": "peQWUGr7eFBm",
        "outputId": "95529554-e078-49df-d271-ed692a8feeb0"
      },
      "execution_count": null,
      "outputs": [
        {
          "output_type": "execute_result",
          "data": {
            "text/plain": [
              "order_status\n",
              "Cancelled    675\n",
              "Name: count, dtype: int64"
            ]
          },
          "metadata": {},
          "execution_count": 260
        }
      ]
    },
    {
      "cell_type": "code",
      "source": [
        "df[df['undelivered_time'].isna()]['order_status'].value_counts()"
      ],
      "metadata": {
        "colab": {
          "base_uri": "https://localhost:8080/"
        },
        "id": "HaIhQl3yhGwV",
        "outputId": "78d49811-55cb-4f89-ab14-366c8c4a6234"
      },
      "execution_count": null,
      "outputs": [
        {
          "output_type": "execute_result",
          "data": {
            "text/plain": [
              "order_status\n",
              "Delivered    7040\n",
              "Cancelled     594\n",
              "Name: count, dtype: int64"
            ]
          },
          "metadata": {},
          "execution_count": 261
        }
      ]
    },
    {
      "cell_type": "code",
      "source": [
        "df[df['undelivered_time'].notnull()]['order_status'].value_counts()"
      ],
      "metadata": {
        "colab": {
          "base_uri": "https://localhost:8080/"
        },
        "id": "VDuaXv_jDW93",
        "outputId": "98363bf8-016f-4bda-fda6-22cd2566c65e"
      },
      "execution_count": null,
      "outputs": [
        {
          "output_type": "execute_result",
          "data": {
            "text/plain": [
              "order_status\n",
              "Delivered    168\n",
              "Cancelled     81\n",
              "Name: count, dtype: int64"
            ]
          },
          "metadata": {},
          "execution_count": 262
        }
      ]
    },
    {
      "cell_type": "code",
      "source": [
        "# Convert date columns to datetime\n",
        "df['created_at'] = pd.to_datetime(df['created_at'])\n",
        "df['delivery_time'] = pd.to_datetime(df['delivery_time'])\n",
        "df['undelivered_time'] = pd.to_datetime(df['undelivered_time'])"
      ],
      "metadata": {
        "id": "tNinOoxQWnUl"
      },
      "execution_count": null,
      "outputs": []
    },
    {
      "cell_type": "code",
      "source": [
        "type(df['total_amt'][109])"
      ],
      "metadata": {
        "colab": {
          "base_uri": "https://localhost:8080/"
        },
        "id": "pAKtc0_V1mm5",
        "outputId": "e186f3b5-b672-430b-f406-f91c589ad0e5"
      },
      "execution_count": null,
      "outputs": [
        {
          "output_type": "execute_result",
          "data": {
            "text/plain": [
              "str"
            ]
          },
          "metadata": {},
          "execution_count": 264
        }
      ]
    },
    {
      "cell_type": "code",
      "source": [
        "# Convert total_amt to numeric\n",
        "df['total_amt']= df['total_amt'].str.replace(',', '').astype(float)"
      ],
      "metadata": {
        "id": "1xJ-K7XsGNDD"
      },
      "execution_count": null,
      "outputs": []
    },
    {
      "cell_type": "code",
      "source": [
        "# Cross checking the summary section again\n",
        "df.info()"
      ],
      "metadata": {
        "colab": {
          "base_uri": "https://localhost:8080/"
        },
        "id": "pPNvoRuV0qjk",
        "outputId": "32fe9501-8d42-4076-b4d7-3a04db1dbc7e"
      },
      "execution_count": null,
      "outputs": [
        {
          "output_type": "stream",
          "name": "stdout",
          "text": [
            "<class 'pandas.core.frame.DataFrame'>\n",
            "RangeIndex: 7883 entries, 0 to 7882\n",
            "Data columns (total 25 columns):\n",
            " #   Column              Non-Null Count  Dtype         \n",
            "---  ------              --------------  -----         \n",
            " 0   order_id            7883 non-null   object        \n",
            " 1   customer            7883 non-null   object        \n",
            " 2   city_id             7883 non-null   int64         \n",
            " 3   created_at          7883 non-null   datetime64[ns]\n",
            " 4   delivery_time       7208 non-null   datetime64[ns]\n",
            " 5   undelivered_time    249 non-null    datetime64[ns]\n",
            " 6   order_type          7883 non-null   object        \n",
            " 7   order_source        7883 non-null   object        \n",
            " 8   order_status        7883 non-null   object        \n",
            " 9   payment_method      7883 non-null   object        \n",
            " 10  discount            7883 non-null   float64       \n",
            " 11  shipping_amt        7883 non-null   int64         \n",
            " 12  order_amt           7883 non-null   object        \n",
            " 13  payment_charges     7883 non-null   int64         \n",
            " 14  total_amt           7883 non-null   float64       \n",
            " 15  product_id          7883 non-null   int64         \n",
            " 16  variant_id          7883 non-null   int64         \n",
            " 17  ordered_qty         7883 non-null   int64         \n",
            " 18  per_unit_price      7883 non-null   int64         \n",
            " 19  city                7883 non-null   object        \n",
            " 20  pincode             7828 non-null   float64       \n",
            " 21  state               7883 non-null   object        \n",
            " 22  first_utm_source    0 non-null      float64       \n",
            " 23  first_referrer      0 non-null      float64       \n",
            " 24  first_utm_campaign  0 non-null      float64       \n",
            "dtypes: datetime64[ns](3), float64(6), int64(7), object(9)\n",
            "memory usage: 1.5+ MB\n"
          ]
        }
      ]
    },
    {
      "cell_type": "code",
      "source": [
        "# 1. Revenue for the month: sum of the total amount of orders with a status of 'Delivered'\n",
        "delivered_orders = df[df['order_status'] == 'Delivered'].drop_duplicates(subset='order_id')\n",
        "revenue = delivered_orders['total_amt'].sum()\n",
        "print(f\"Revenue for the month: {revenue}\")"
      ],
      "metadata": {
        "colab": {
          "base_uri": "https://localhost:8080/"
        },
        "id": "IujcJpge687w",
        "outputId": "4c9de4cc-74c5-4ab1-dc61-4a52dad4753d"
      },
      "execution_count": null,
      "outputs": [
        {
          "output_type": "stream",
          "name": "stdout",
          "text": [
            "Revenue for the month: 640779.4\n"
          ]
        }
      ]
    },
    {
      "cell_type": "code",
      "source": [
        "# 2. Discount offered: sum of the discount of orders with a status of 'Delivered'\n",
        "discount_offered = delivered_orders['discount'].sum()\n",
        "print(f\"Discount offered: {discount_offered}\")"
      ],
      "metadata": {
        "colab": {
          "base_uri": "https://localhost:8080/"
        },
        "id": "VhwIfC3q7Szc",
        "outputId": "67271115-3d21-4478-e10e-b158b227b58f"
      },
      "execution_count": null,
      "outputs": [
        {
          "output_type": "stream",
          "name": "stdout",
          "text": [
            "Discount offered: 15814.6\n"
          ]
        }
      ]
    },
    {
      "cell_type": "code",
      "source": [
        "# 3. Count of unique delivered orders\n",
        "delivered_unique_orders_count = delivered_orders['order_id'].nunique()\n",
        "print(f\"Count of unique delivered orders: {delivered_unique_orders_count}\")\n",
        "\n",
        "\n",
        "# 3. Count of total unique orders\n",
        "total_unique_orders_count = df['order_id'].nunique()\n",
        "print(f\"Count of total unique orders: {total_unique_orders_count}\")"
      ],
      "metadata": {
        "colab": {
          "base_uri": "https://localhost:8080/"
        },
        "id": "WzAiD-kQ7ZrM",
        "outputId": "cb74a7fb-0c59-4b61-d6de-957b48c41d7b"
      },
      "execution_count": null,
      "outputs": [
        {
          "output_type": "stream",
          "name": "stdout",
          "text": [
            "Count of unique delivered orders: 2347\n",
            "Count of total unique orders: 2561\n"
          ]
        }
      ]
    },
    {
      "cell_type": "code",
      "source": [
        "# 4. Count of unique customers\n",
        "delivered_unique_customers_count = delivered_orders['customer'].nunique()\n",
        "print(f\"Count of unique customers: {delivered_unique_customers_count}\")\n",
        "\n",
        "\n",
        "# 4. Count of total unique customers\n",
        "total_unique_customers_count = df['customer'].nunique()\n",
        "print(f\"Count of unique customers: {total_unique_customers_count}\")\n"
      ],
      "metadata": {
        "colab": {
          "base_uri": "https://localhost:8080/"
        },
        "id": "HKhBTAy58A1A",
        "outputId": "1254f713-b3cd-446b-95c8-7a2b52e218db"
      },
      "execution_count": null,
      "outputs": [
        {
          "output_type": "stream",
          "name": "stdout",
          "text": [
            "Count of unique customers: 1931\n",
            "Count of unique customers: 2019\n"
          ]
        }
      ]
    },
    {
      "cell_type": "code",
      "source": [
        "# 5. Count of RTO orders\n",
        "rto_orders_count = df[(df['order_status'] == 'Cancelled') & (df['undelivered_time'].notnull())]['order_id'].nunique()\n",
        "print(f\"Count of RTO orders: {rto_orders_count}\")"
      ],
      "metadata": {
        "colab": {
          "base_uri": "https://localhost:8080/"
        },
        "id": "sz1gucX38Lpm",
        "outputId": "1cea5fa1-b879-4bdc-c0b0-a4766220e9b7"
      },
      "execution_count": null,
      "outputs": [
        {
          "output_type": "stream",
          "name": "stdout",
          "text": [
            "Count of RTO orders: 31\n"
          ]
        }
      ]
    },
    {
      "cell_type": "code",
      "source": [
        "# 6. Average number of items in an order\n",
        "avg_items_per_order = df.groupby('order_id')['ordered_qty'].sum().mean()\n",
        "print(f\"Average number of items in an order: {avg_items_per_order}\")"
      ],
      "metadata": {
        "colab": {
          "base_uri": "https://localhost:8080/"
        },
        "id": "4fdLQ4VIX30u",
        "outputId": "44375da4-0462-4ff4-e9bf-b30068b35e38"
      },
      "execution_count": null,
      "outputs": [
        {
          "output_type": "stream",
          "name": "stdout",
          "text": [
            "Average number of items in an order: 3.522061694650527\n"
          ]
        }
      ]
    },
    {
      "cell_type": "markdown",
      "source": [
        "# Thank You for the opportunity\n"
      ],
      "metadata": {
        "id": "jcbUvpQsH2k-"
      }
    }
  ]
}